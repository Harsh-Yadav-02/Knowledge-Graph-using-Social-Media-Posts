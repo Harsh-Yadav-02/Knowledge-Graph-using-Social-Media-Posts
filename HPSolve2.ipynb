{
 "cells": [
  {
   "cell_type": "code",
   "execution_count": null,
   "id": "cb293021",
   "metadata": {},
   "outputs": [],
   "source": []
  },
  {
   "cell_type": "code",
   "execution_count": 1,
   "id": "53483f25",
   "metadata": {},
   "outputs": [],
   "source": [
    "import numpy as np \n",
    "import pandas as pd \n",
    "import seaborn as sns\n",
    "import matplotlib.pyplot as plt"
   ]
  },
  {
   "cell_type": "code",
   "execution_count": 58,
   "id": "e133f5e0",
   "metadata": {},
   "outputs": [],
   "source": [
    "df1 = pd.read_csv('dataset_twitter-scraper_2023-03-27_12-06-01-847.csv')"
   ]
  },
  {
   "cell_type": "code",
   "execution_count": 59,
   "id": "f0acf273",
   "metadata": {},
   "outputs": [],
   "source": [
    "df2  = pd.read_csv('2023-03-20_2023-03-27_HP PC OR HP printer.csv')"
   ]
  },
  {
   "cell_type": "code",
   "execution_count": 60,
   "id": "2dc26319",
   "metadata": {},
   "outputs": [],
   "source": [
    "df1 = pd.DataFrame(df1['full_text'])"
   ]
  },
  {
   "cell_type": "code",
   "execution_count": 61,
   "id": "3a1a9aba",
   "metadata": {},
   "outputs": [],
   "source": [
    "df2 = pd.DataFrame(df2['Text'])"
   ]
  },
  {
   "cell_type": "code",
   "execution_count": 63,
   "id": "e1828a23",
   "metadata": {},
   "outputs": [],
   "source": [
    "df1.rename(columns = {'full_text' : 'Tweet'}, inplace = True)"
   ]
  },
  {
   "cell_type": "code",
   "execution_count": 64,
   "id": "72585157",
   "metadata": {},
   "outputs": [],
   "source": [
    "df2.rename(columns = {'Text' : 'Tweet'}, inplace = True)"
   ]
  },
  {
   "cell_type": "code",
   "execution_count": 65,
   "id": "50c0c614",
   "metadata": {},
   "outputs": [],
   "source": [
    "frames = [df1,df2]"
   ]
  },
  {
   "cell_type": "code",
   "execution_count": 66,
   "id": "9794593e",
   "metadata": {},
   "outputs": [],
   "source": [
    "df = pd.concat(frames)"
   ]
  },
  {
   "cell_type": "code",
   "execution_count": 67,
   "id": "27040569",
   "metadata": {},
   "outputs": [
    {
     "data": {
      "text/html": [
       "<div>\n",
       "<style scoped>\n",
       "    .dataframe tbody tr th:only-of-type {\n",
       "        vertical-align: middle;\n",
       "    }\n",
       "\n",
       "    .dataframe tbody tr th {\n",
       "        vertical-align: top;\n",
       "    }\n",
       "\n",
       "    .dataframe thead th {\n",
       "        text-align: right;\n",
       "    }\n",
       "</style>\n",
       "<table border=\"1\" class=\"dataframe\">\n",
       "  <thead>\n",
       "    <tr style=\"text-align: right;\">\n",
       "      <th></th>\n",
       "      <th>Tweet</th>\n",
       "    </tr>\n",
       "  </thead>\n",
       "  <tbody>\n",
       "    <tr>\n",
       "      <th>0</th>\n",
       "      <td>경주리모델링 \\nhttps://t.co/SBZlOWDzhI</td>\n",
       "    </tr>\n",
       "    <tr>\n",
       "      <th>1</th>\n",
       "      <td>計算時間が短かいから多人数で使えないと\\n稼働率が低くなるのだろうなぁ。\\n\\nビット組合わ...</td>\n",
       "    </tr>\n",
       "    <tr>\n",
       "      <th>2</th>\n",
       "      <td>@scubaboybop1110 STYLYさんのHPを参考に、iPhoneの動画を3DF ...</td>\n",
       "    </tr>\n",
       "    <tr>\n",
       "      <th>3</th>\n",
       "      <td>fyi jg aku cuma pake data internet (tsel) dan ...</td>\n",
       "    </tr>\n",
       "    <tr>\n",
       "      <th>4</th>\n",
       "      <td>ノートPCのキーボードとタッチパッドが壊れて使えなくなったので、VAIOからHPへ買い換えま...</td>\n",
       "    </tr>\n",
       "  </tbody>\n",
       "</table>\n",
       "</div>"
      ],
      "text/plain": [
       "                                               Tweet\n",
       "0                   경주리모델링 \\nhttps://t.co/SBZlOWDzhI\n",
       "1  計算時間が短かいから多人数で使えないと\\n稼働率が低くなるのだろうなぁ。\\n\\nビット組合わ...\n",
       "2  @scubaboybop1110 STYLYさんのHPを参考に、iPhoneの動画を3DF ...\n",
       "3  fyi jg aku cuma pake data internet (tsel) dan ...\n",
       "4  ノートPCのキーボードとタッチパッドが壊れて使えなくなったので、VAIOからHPへ買い換えま..."
      ]
     },
     "execution_count": 67,
     "metadata": {},
     "output_type": "execute_result"
    }
   ],
   "source": [
    "df.head()"
   ]
  },
  {
   "cell_type": "code",
   "execution_count": 72,
   "id": "e99beff1",
   "metadata": {},
   "outputs": [
    {
     "data": {
      "text/plain": [
       "(964, 1)"
      ]
     },
     "execution_count": 72,
     "metadata": {},
     "output_type": "execute_result"
    }
   ],
   "source": [
    "df.shape"
   ]
  },
  {
   "cell_type": "code",
   "execution_count": 73,
   "id": "b6206492",
   "metadata": {},
   "outputs": [
    {
     "data": {
      "text/plain": [
       "(200, 1)"
      ]
     },
     "execution_count": 73,
     "metadata": {},
     "output_type": "execute_result"
    }
   ],
   "source": [
    "df1.shape"
   ]
  },
  {
   "cell_type": "code",
   "execution_count": 74,
   "id": "2ef7f8ad",
   "metadata": {},
   "outputs": [
    {
     "data": {
      "text/plain": [
       "(764, 1)"
      ]
     },
     "execution_count": 74,
     "metadata": {},
     "output_type": "execute_result"
    }
   ],
   "source": [
    "df2.shape"
   ]
  },
  {
   "cell_type": "markdown",
   "id": "11aa50e0",
   "metadata": {},
   "source": [
    "# EDA"
   ]
  },
  {
   "cell_type": "code",
   "execution_count": 75,
   "id": "3ce6de55",
   "metadata": {},
   "outputs": [
    {
     "name": "stdout",
     "output_type": "stream",
     "text": [
      "<class 'pandas.core.frame.DataFrame'>\n",
      "Int64Index: 964 entries, 0 to 763\n",
      "Data columns (total 1 columns):\n",
      " #   Column  Non-Null Count  Dtype \n",
      "---  ------  --------------  ----- \n",
      " 0   Tweet   964 non-null    object\n",
      "dtypes: object(1)\n",
      "memory usage: 15.1+ KB\n"
     ]
    }
   ],
   "source": [
    "df.info()"
   ]
  },
  {
   "cell_type": "code",
   "execution_count": 80,
   "id": "70f112a1",
   "metadata": {},
   "outputs": [
    {
     "data": {
      "text/plain": [
       "Tweet    0\n",
       "dtype: int64"
      ]
     },
     "execution_count": 80,
     "metadata": {},
     "output_type": "execute_result"
    }
   ],
   "source": [
    "df.isna().sum()"
   ]
  },
  {
   "cell_type": "code",
   "execution_count": 82,
   "id": "9c98cdb0",
   "metadata": {},
   "outputs": [],
   "source": [
    "from nltk.corpus import stopwords\n",
    "eng_stop_words = list(stopwords.words('english'))"
   ]
  },
  {
   "cell_type": "code",
   "execution_count": 84,
   "id": "7b18fdc2",
   "metadata": {},
   "outputs": [],
   "source": [
    "from emot.emo_unicode import UNICODE_EMOJI\n",
    "emoji = list(UNICODE_EMOJI.keys())"
   ]
  },
  {
   "cell_type": "code",
   "execution_count": 92,
   "id": "3559893f",
   "metadata": {},
   "outputs": [],
   "source": [
    "import string \n",
    "import re\n",
    "import textblob\n",
    "from textblob import TextBlob\n",
    "import nltk\n",
    "from nltk.corpus import stopwords\n",
    "from nltk.tokenize import word_tokenize\n",
    "from nltk.stem import WordNetLemmatizer\n",
    "from nltk.stem.porter import PorterStemmer"
   ]
  },
  {
   "cell_type": "code",
   "execution_count": 88,
   "id": "336b7868",
   "metadata": {},
   "outputs": [],
   "source": [
    "def ProcessedTweets(text):\n",
    "    text = text.lower()\n",
    "    text = ''.join(re.sub(\"(@[A-Za-z0-9]+)|([^0-9A-Za-z \\t]) |(\\w+:\\/\\/\\S+)\", \"\", text).split())\n",
    "    text = re.sub(r'\\@\\w+|\\#\\w+|\\d+', '', text)\n",
    "    punct = str.maketrans('', '', string.punctuation+string.digits)\n",
    "    text = text.translate(punct)\n",
    "    tokens = word_tokenize(text)\n",
    "    filtered_words = [w for w in tokens if w not in eng_stop_words]\n",
    "    filtered_words = [w for w in filtered_words if w not in emoji]\n",
    "    lemmatizer = WordNetLemmatizer()\n",
    "    lemma_words = [lemmatizer.lemmatize(w) for w in filtered_words]\n",
    "    text = \"\".join(lemma_words)\n",
    "    return text"
   ]
  },
  {
   "cell_type": "code",
   "execution_count": 103,
   "id": "7c99b4ad",
   "metadata": {},
   "outputs": [],
   "source": [
    "df['Processed_Tweets'] = df['Tweet'].apply(ProcessedTweets)"
   ]
  },
  {
   "cell_type": "code",
   "execution_count": 105,
   "id": "1971917b",
   "metadata": {},
   "outputs": [
    {
     "data": {
      "text/html": [
       "<div>\n",
       "<style scoped>\n",
       "    .dataframe tbody tr th:only-of-type {\n",
       "        vertical-align: middle;\n",
       "    }\n",
       "\n",
       "    .dataframe tbody tr th {\n",
       "        vertical-align: top;\n",
       "    }\n",
       "\n",
       "    .dataframe thead th {\n",
       "        text-align: right;\n",
       "    }\n",
       "</style>\n",
       "<table border=\"1\" class=\"dataframe\">\n",
       "  <thead>\n",
       "    <tr style=\"text-align: right;\">\n",
       "      <th></th>\n",
       "      <th>Tweet</th>\n",
       "      <th>Processed_Tweets</th>\n",
       "    </tr>\n",
       "  </thead>\n",
       "  <tbody>\n",
       "    <tr>\n",
       "      <th>759</th>\n",
       "      <td>@HPIndia hp 1005 printer,cuttack ,odisha ,yest...</td>\n",
       "      <td>hpprintercuttackodishayesterdayoneexecutivecal...</td>\n",
       "    </tr>\n",
       "    <tr>\n",
       "      <th>760</th>\n",
       "      <td>256MB Printer Memory for HP Laserjet Pro 400 C...</td>\n",
       "      <td>mbprintermemoryforhplaserjetprocolormdnprinter...</td>\n",
       "    </tr>\n",
       "    <tr>\n",
       "      <th>761</th>\n",
       "      <td>Like It👍 from Computers &amp;amp; Accessories in A...</td>\n",
       "      <td>likeitfromcomputersampaccessoriesinamazonhpbla...</td>\n",
       "    </tr>\n",
       "    <tr>\n",
       "      <th>762</th>\n",
       "      <td>https://t.co/5HWhYyjUxb ink cartridge,ink cart...</td>\n",
       "      <td>inkcartridgeinkcartridgescartridgehowtorefilli...</td>\n",
       "    </tr>\n",
       "    <tr>\n",
       "      <th>763</th>\n",
       "      <td>Thanks @HP for the printer that came with a ne...</td>\n",
       "      <td>thanksfortheprinterthatcamewithanearemptyprint...</td>\n",
       "    </tr>\n",
       "  </tbody>\n",
       "</table>\n",
       "</div>"
      ],
      "text/plain": [
       "                                                 Tweet  \\\n",
       "759  @HPIndia hp 1005 printer,cuttack ,odisha ,yest...   \n",
       "760  256MB Printer Memory for HP Laserjet Pro 400 C...   \n",
       "761  Like It👍 from Computers &amp; Accessories in A...   \n",
       "762  https://t.co/5HWhYyjUxb ink cartridge,ink cart...   \n",
       "763  Thanks @HP for the printer that came with a ne...   \n",
       "\n",
       "                                      Processed_Tweets  \n",
       "759  hpprintercuttackodishayesterdayoneexecutivecal...  \n",
       "760  mbprintermemoryforhplaserjetprocolormdnprinter...  \n",
       "761  likeitfromcomputersampaccessoriesinamazonhpbla...  \n",
       "762  inkcartridgeinkcartridgescartridgehowtorefilli...  \n",
       "763  thanksfortheprinterthatcamewithanearemptyprint...  "
      ]
     },
     "execution_count": 105,
     "metadata": {},
     "output_type": "execute_result"
    }
   ],
   "source": [
    "df.tail()"
   ]
  },
  {
   "cell_type": "code",
   "execution_count": 110,
   "id": "866db26e",
   "metadata": {},
   "outputs": [],
   "source": [
    "df.drop_duplicates(subset = 'Processed_Tweets', inplace=True)"
   ]
  },
  {
   "cell_type": "code",
   "execution_count": 111,
   "id": "f1f49aa3",
   "metadata": {},
   "outputs": [
    {
     "data": {
      "text/plain": [
       "(829, 2)"
      ]
     },
     "execution_count": 111,
     "metadata": {},
     "output_type": "execute_result"
    }
   ],
   "source": [
    "df.shape"
   ]
  },
  {
   "cell_type": "code",
   "execution_count": 119,
   "id": "50f3c8ca",
   "metadata": {},
   "outputs": [],
   "source": [
    "df.to_csv('final_tweet.csv')"
   ]
  },
  {
   "cell_type": "markdown",
   "id": "e97947c3",
   "metadata": {},
   "source": [
    "# Sentiment Analysis"
   ]
  },
  {
   "cell_type": "code",
   "execution_count": 116,
   "id": "6d30dbc5",
   "metadata": {},
   "outputs": [],
   "source": [
    "def polarity(tweet):\n",
    "    return TextBlob(tweet).sentiment.polarity\n",
    "\n",
    "def sentimenttextblob(polarity):\n",
    "    if polarity < -0.1:\n",
    "        return \"Negative\"\n",
    "    elif polarity > 0.1:\n",
    "        return \"Positive\"\n",
    "    else :\n",
    "        return \"Neutral\""
   ]
  },
  {
   "cell_type": "code",
   "execution_count": 117,
   "id": "199af3fc",
   "metadata": {},
   "outputs": [
    {
     "data": {
      "text/plain": [
       "Neutral    829\n",
       "Name: Sentiment, dtype: int64"
      ]
     },
     "execution_count": 117,
     "metadata": {},
     "output_type": "execute_result"
    }
   ],
   "source": [
    "df['Polarity'] = df['Processed_Tweets'].apply(polarity)\n",
    "df['Sentiment'] = df['Polarity'].apply(sentimenttextblob)\n",
    "sent = df['Sentiment'].value_counts()\n",
    "sent"
   ]
  },
  {
   "cell_type": "code",
   "execution_count": 123,
   "id": "26563539",
   "metadata": {},
   "outputs": [
    {
     "name": "stdout",
     "output_type": "stream",
     "text": [
      "0.14166666666666664\n"
     ]
    }
   ],
   "source": [
    "tweet = \"I kind of hate & love this movie!\"\n",
    "print(polarity(tweet)) # expected output: positive polarity\n"
   ]
  },
  {
   "cell_type": "code",
   "execution_count": null,
   "id": "88555f01",
   "metadata": {},
   "outputs": [],
   "source": []
  }
 ],
 "metadata": {
  "kernelspec": {
   "display_name": "Python 3 (ipykernel)",
   "language": "python",
   "name": "python3"
  },
  "language_info": {
   "codemirror_mode": {
    "name": "ipython",
    "version": 3
   },
   "file_extension": ".py",
   "mimetype": "text/x-python",
   "name": "python",
   "nbconvert_exporter": "python",
   "pygments_lexer": "ipython3",
   "version": "3.9.13"
  }
 },
 "nbformat": 4,
 "nbformat_minor": 5
}
