{
 "cells": [
  {
   "cell_type": "code",
   "execution_count": 18,
   "id": "9ef647d9",
   "metadata": {
    "collapsed": true
   },
   "outputs": [],
   "source": [
    "import numpy as np \n",
    "import pandas as pd \n",
    "import seaborn as sns\n",
    "import matplotlib.pyplot as plt\n",
    "import snscrape.modules.twitter as sntwitter\n",
    "import nltk"
   ]
  },
  {
   "cell_type": "code",
   "execution_count": 21,
   "id": "2e8ecde7",
   "metadata": {},
   "outputs": [],
   "source": [
    "from nltk.corpus import stopwords\n",
    "from nltk.tokenize import word_tokenize"
   ]
  },
  {
   "cell_type": "code",
   "execution_count": 22,
   "id": "d2e6b526",
   "metadata": {},
   "outputs": [],
   "source": [
    "from nltk.stem import WordNetLemmatizer\n",
    "from nltk.stem.porter import PorterStemmer"
   ]
  },
  {
   "cell_type": "code",
   "execution_count": 25,
   "id": "4fcaded1",
   "metadata": {},
   "outputs": [],
   "source": [
    "import string \n",
    "import re\n",
    "import textblob\n",
    "from textblob import TextBlob"
   ]
  },
  {
   "cell_type": "code",
   "execution_count": 28,
   "id": "c5bd8486",
   "metadata": {},
   "outputs": [],
   "source": [
    "from wordcloud import WordCloud, STOPWORDS\n",
    "from emot.emo_unicode import UNICODE_EMOJI"
   ]
  },
  {
   "cell_type": "code",
   "execution_count": 29,
   "id": "961a7a35",
   "metadata": {},
   "outputs": [],
   "source": [
    "lemmatizer = WordNetLemmatizer()"
   ]
  },
  {
   "cell_type": "code",
   "execution_count": 37,
   "id": "4f85b91d",
   "metadata": {},
   "outputs": [],
   "source": [
    "from wordcloud import ImageColorGenerator\n",
    "from PIL import Image"
   ]
  },
  {
   "cell_type": "code",
   "execution_count": 38,
   "id": "2c3464b2",
   "metadata": {},
   "outputs": [],
   "source": [
    "import warnings\n",
    "%matplotlib inline"
   ]
  },
  {
   "cell_type": "code",
   "execution_count": 48,
   "id": "799774c2",
   "metadata": {},
   "outputs": [],
   "source": [
    "import datetime\n",
    "from tqdm.notebook import tqdm_notebook\n",
    "sns.set_theme(style=\"whitegrid\")"
   ]
  },
  {
   "cell_type": "code",
   "execution_count": 87,
   "id": "ca01f115",
   "metadata": {},
   "outputs": [
    {
     "name": "stdout",
     "output_type": "stream",
     "text": [
      "Enter query text to be matched (or leave it blank by pressing enter)HP printer\n",
      "Enter specific username(s) from a twitter account without @ (or leave it blank by pressing enter): \n",
      "Enter startdate in this format yyyy-mm-dd (or leave it blank by pressing enter): \n",
      "Enter enddate in this format yyyy-mm-dd (or leave it blank by pressing enter): \n",
      "Enter max number of tweets or enter -1 to retrieve all possible tweets: 20000\n",
      "Exclude Retweets? (y/n): n\n",
      "Exclude Replies? (y/n): n\n"
     ]
    }
   ],
   "source": [
    "text = input('Enter query text to be matched (or leave it blank by pressing enter): ')\n",
    "username = input('Enter specific username(s) from a twitter account without @ (or leave it blank by pressing enter): ')\n",
    "since = input('Enter startdate in this format yyyy-mm-dd (or leave it blank by pressing enter): ')\n",
    "until = input('Enter enddate in this format yyyy-mm-dd (or leave it blank by pressing enter): ')\n",
    "count = int(input('Enter max number of tweets or enter -1 to retrieve all possible tweets: '))\n",
    "retweet = input('Exclude Retweets? (y/n): ')\n",
    "replies = input('Exclude Replies? (y/n): ')"
   ]
  },
  {
   "cell_type": "code",
   "execution_count": 88,
   "id": "9aed75e2",
   "metadata": {},
   "outputs": [],
   "source": [
    "def search(text,username,since,until,retweet,replies):\n",
    "    global filename\n",
    "    q = text\n",
    "    if username!='':\n",
    "        q += f\" from:{username}\"\n",
    "    if until=='':\n",
    "        until = datetime.datetime.strftime(datetime.date.today(), '%Y-%m-%d')\n",
    "        q += f\" until:{until}\"\n",
    "    if since=='':\n",
    "        since = datetime.datetime.strftime(datetime.datetime.strptime(until, '%Y-%m-%d') - datetime.timedelta(days=7), '%Y-%m-%d')\n",
    "        q += f\" since:{since}\"\n",
    "    if retweet == 'y':\n",
    "        q += f\" exclude:retweets\"\n",
    "    if replies == 'y':\n",
    "        q += f\" exclude:replies\"\n",
    "    if username!='' and text!='':\n",
    "        filename = f\"{since}_{until}_{username}_{text}.csv\"\n",
    "    elif username!=\"\":\n",
    "        filename = f\"{since}_{until}_{username}.csv\"\n",
    "    else:\n",
    "        filename = f\"{since}_{until}_{text}.csv\"\n",
    "        print(filename)\n",
    "    return q"
   ]
  },
  {
   "cell_type": "code",
   "execution_count": 89,
   "id": "7fe06052",
   "metadata": {},
   "outputs": [
    {
     "name": "stdout",
     "output_type": "stream",
     "text": [
      "2023-03-20_2023-03-27_HP printer.csv\n"
     ]
    },
    {
     "data": {
      "application/vnd.jupyter.widget-view+json": {
       "model_id": "377b020a6524490e817953a4cefaaff6",
       "version_major": 2,
       "version_minor": 0
      },
      "text/plain": [
       "  0%|          | 0/20000 [00:00<?, ?it/s]"
      ]
     },
     "metadata": {},
     "output_type": "display_data"
    }
   ],
   "source": [
    "q = search(text,username,since,until,retweet,replies)\n",
    "# Creating list to append tweet data\n",
    "tweets_list1 = []\n",
    "# Using TwitterSearchScraper to scrape data and append tweets to list\n",
    "if count == -1:\n",
    "    for i,tweet in enumerate(tqdm_notebook(sntwitter.TwitterSearchScraper(q).get_items())):\n",
    "        tweets_list1.append([tweet.date, tweet.id, tweet.rawContent, tweet.user.username,tweet.lang,tweet.hashtags,tweet.replyCount,tweet.retweetCount, tweet.likeCount,tweet.quoteCount,tweet.media])\n",
    "else:\n",
    "    with tqdm_notebook(total=count) as pbar:\n",
    "        for i,tweet in enumerate(sntwitter.TwitterSearchScraper(q).get_items()): #declare a username\n",
    "            if i>=count: #number of tweets you want to scrape\n",
    "                break\n",
    "            tweets_list1.append([tweet.date, tweet.id, tweet.rawContent, tweet.user.username,tweet.lang,tweet.hashtags,tweet.replyCount,tweet.retweetCount,tweet.likeCount,tweet.quoteCount,tweet.media])\n",
    "            pbar.update(1)\n",
    "# Creating a dataframe from the tweets list above\n",
    "tweets_df1 = pd.DataFrame(tweets_list1, columns=['DateTime', 'TweetId', 'Text', 'Username','Language','Hashtags','ReplyCount','RetweetCount','LikeCount','QuoteCount','Media']) "
   ]
  },
  {
   "cell_type": "code",
   "execution_count": 90,
   "id": "f953d2ee",
   "metadata": {},
   "outputs": [
    {
     "data": {
      "text/html": [
       "<div>\n",
       "<style scoped>\n",
       "    .dataframe tbody tr th:only-of-type {\n",
       "        vertical-align: middle;\n",
       "    }\n",
       "\n",
       "    .dataframe tbody tr th {\n",
       "        vertical-align: top;\n",
       "    }\n",
       "\n",
       "    .dataframe thead th {\n",
       "        text-align: right;\n",
       "    }\n",
       "</style>\n",
       "<table border=\"1\" class=\"dataframe\">\n",
       "  <thead>\n",
       "    <tr style=\"text-align: right;\">\n",
       "      <th></th>\n",
       "      <th>DateTime</th>\n",
       "      <th>TweetId</th>\n",
       "      <th>Text</th>\n",
       "      <th>Username</th>\n",
       "      <th>Language</th>\n",
       "      <th>Hashtags</th>\n",
       "      <th>ReplyCount</th>\n",
       "      <th>RetweetCount</th>\n",
       "      <th>LikeCount</th>\n",
       "      <th>QuoteCount</th>\n",
       "      <th>Media</th>\n",
       "    </tr>\n",
       "  </thead>\n",
       "  <tbody>\n",
       "    <tr>\n",
       "      <th>0</th>\n",
       "      <td>2023-03-26 23:38:16+00:00</td>\n",
       "      <td>1640136114286542855</td>\n",
       "      <td>All I want is a printer that actually works.\\n...</td>\n",
       "      <td>jaxxdev</td>\n",
       "      <td>en</td>\n",
       "      <td>None</td>\n",
       "      <td>0</td>\n",
       "      <td>0</td>\n",
       "      <td>0</td>\n",
       "      <td>0</td>\n",
       "      <td>None</td>\n",
       "    </tr>\n",
       "    <tr>\n",
       "      <th>1</th>\n",
       "      <td>2023-03-26 23:25:12+00:00</td>\n",
       "      <td>1640132826623246341</td>\n",
       "      <td>Hey @HP if you could make scanner / printer ut...</td>\n",
       "      <td>nemesiscafe</td>\n",
       "      <td>en</td>\n",
       "      <td>None</td>\n",
       "      <td>1</td>\n",
       "      <td>0</td>\n",
       "      <td>1</td>\n",
       "      <td>0</td>\n",
       "      <td>[Gif(thumbnailUrl='https://pbs.twimg.com/tweet...</td>\n",
       "    </tr>\n",
       "    <tr>\n",
       "      <th>2</th>\n",
       "      <td>2023-03-26 22:54:16+00:00</td>\n",
       "      <td>1640125039977590785</td>\n",
       "      <td>INFITONER 414A Toner Cartridges 4 Pack (with C...</td>\n",
       "      <td>unumihai_</td>\n",
       "      <td>en</td>\n",
       "      <td>None</td>\n",
       "      <td>0</td>\n",
       "      <td>0</td>\n",
       "      <td>0</td>\n",
       "      <td>0</td>\n",
       "      <td>[Photo(previewUrl='https://pbs.twimg.com/media...</td>\n",
       "    </tr>\n",
       "    <tr>\n",
       "      <th>3</th>\n",
       "      <td>2023-03-26 22:41:29+00:00</td>\n",
       "      <td>1640121823122665473</td>\n",
       "      <td>Goodbye HP inkjet. Hello #Brother. I will neve...</td>\n",
       "      <td>1johnwatson</td>\n",
       "      <td>en</td>\n",
       "      <td>[Brother]</td>\n",
       "      <td>0</td>\n",
       "      <td>0</td>\n",
       "      <td>0</td>\n",
       "      <td>0</td>\n",
       "      <td>[Photo(previewUrl='https://pbs.twimg.com/media...</td>\n",
       "    </tr>\n",
       "    <tr>\n",
       "      <th>4</th>\n",
       "      <td>2023-03-26 22:32:52+00:00</td>\n",
       "      <td>1640119654516674562</td>\n",
       "      <td>Plenty of black toner left but with yellow emp...</td>\n",
       "      <td>kiwibrew</td>\n",
       "      <td>en</td>\n",
       "      <td>None</td>\n",
       "      <td>4</td>\n",
       "      <td>2</td>\n",
       "      <td>6</td>\n",
       "      <td>0</td>\n",
       "      <td>[Photo(previewUrl='https://pbs.twimg.com/media...</td>\n",
       "    </tr>\n",
       "    <tr>\n",
       "      <th>...</th>\n",
       "      <td>...</td>\n",
       "      <td>...</td>\n",
       "      <td>...</td>\n",
       "      <td>...</td>\n",
       "      <td>...</td>\n",
       "      <td>...</td>\n",
       "      <td>...</td>\n",
       "      <td>...</td>\n",
       "      <td>...</td>\n",
       "      <td>...</td>\n",
       "      <td>...</td>\n",
       "    </tr>\n",
       "    <tr>\n",
       "      <th>764</th>\n",
       "      <td>2023-03-20 02:10:32+00:00</td>\n",
       "      <td>1637637720087437313</td>\n",
       "      <td>@HPIndia hp 1005 printer,cuttack ,odisha ,yest...</td>\n",
       "      <td>RawAlok</td>\n",
       "      <td>en</td>\n",
       "      <td>None</td>\n",
       "      <td>3</td>\n",
       "      <td>0</td>\n",
       "      <td>0</td>\n",
       "      <td>0</td>\n",
       "      <td>None</td>\n",
       "    </tr>\n",
       "    <tr>\n",
       "      <th>765</th>\n",
       "      <td>2023-03-20 01:56:18+00:00</td>\n",
       "      <td>1637634136880869376</td>\n",
       "      <td>256MB Printer Memory for HP Laserjet Pro 400 C...</td>\n",
       "      <td>prosaccofsu</td>\n",
       "      <td>en</td>\n",
       "      <td>None</td>\n",
       "      <td>0</td>\n",
       "      <td>0</td>\n",
       "      <td>0</td>\n",
       "      <td>0</td>\n",
       "      <td>None</td>\n",
       "    </tr>\n",
       "    <tr>\n",
       "      <th>766</th>\n",
       "      <td>2023-03-20 01:34:03+00:00</td>\n",
       "      <td>1637628536197627904</td>\n",
       "      <td>Like It👍 from Computers &amp;amp; Accessories in A...</td>\n",
       "      <td>mieniaisacat</td>\n",
       "      <td>en</td>\n",
       "      <td>None</td>\n",
       "      <td>0</td>\n",
       "      <td>0</td>\n",
       "      <td>0</td>\n",
       "      <td>0</td>\n",
       "      <td>None</td>\n",
       "    </tr>\n",
       "    <tr>\n",
       "      <th>767</th>\n",
       "      <td>2023-03-20 01:14:04+00:00</td>\n",
       "      <td>1637623507738558466</td>\n",
       "      <td>https://t.co/5HWhYyjUxb ink cartridge,ink cart...</td>\n",
       "      <td>AaqibGul6</td>\n",
       "      <td>en</td>\n",
       "      <td>None</td>\n",
       "      <td>0</td>\n",
       "      <td>0</td>\n",
       "      <td>0</td>\n",
       "      <td>0</td>\n",
       "      <td>None</td>\n",
       "    </tr>\n",
       "    <tr>\n",
       "      <th>768</th>\n",
       "      <td>2023-03-20 01:05:20+00:00</td>\n",
       "      <td>1637621309403447297</td>\n",
       "      <td>Thanks @HP for the printer that came with a ne...</td>\n",
       "      <td>NickBrackney</td>\n",
       "      <td>en</td>\n",
       "      <td>None</td>\n",
       "      <td>1</td>\n",
       "      <td>0</td>\n",
       "      <td>0</td>\n",
       "      <td>1</td>\n",
       "      <td>None</td>\n",
       "    </tr>\n",
       "  </tbody>\n",
       "</table>\n",
       "<p>769 rows × 11 columns</p>\n",
       "</div>"
      ],
      "text/plain": [
       "                     DateTime              TweetId  \\\n",
       "0   2023-03-26 23:38:16+00:00  1640136114286542855   \n",
       "1   2023-03-26 23:25:12+00:00  1640132826623246341   \n",
       "2   2023-03-26 22:54:16+00:00  1640125039977590785   \n",
       "3   2023-03-26 22:41:29+00:00  1640121823122665473   \n",
       "4   2023-03-26 22:32:52+00:00  1640119654516674562   \n",
       "..                        ...                  ...   \n",
       "764 2023-03-20 02:10:32+00:00  1637637720087437313   \n",
       "765 2023-03-20 01:56:18+00:00  1637634136880869376   \n",
       "766 2023-03-20 01:34:03+00:00  1637628536197627904   \n",
       "767 2023-03-20 01:14:04+00:00  1637623507738558466   \n",
       "768 2023-03-20 01:05:20+00:00  1637621309403447297   \n",
       "\n",
       "                                                  Text      Username Language  \\\n",
       "0    All I want is a printer that actually works.\\n...       jaxxdev       en   \n",
       "1    Hey @HP if you could make scanner / printer ut...   nemesiscafe       en   \n",
       "2    INFITONER 414A Toner Cartridges 4 Pack (with C...     unumihai_       en   \n",
       "3    Goodbye HP inkjet. Hello #Brother. I will neve...   1johnwatson       en   \n",
       "4    Plenty of black toner left but with yellow emp...      kiwibrew       en   \n",
       "..                                                 ...           ...      ...   \n",
       "764  @HPIndia hp 1005 printer,cuttack ,odisha ,yest...       RawAlok       en   \n",
       "765  256MB Printer Memory for HP Laserjet Pro 400 C...   prosaccofsu       en   \n",
       "766  Like It👍 from Computers &amp; Accessories in A...  mieniaisacat       en   \n",
       "767  https://t.co/5HWhYyjUxb ink cartridge,ink cart...     AaqibGul6       en   \n",
       "768  Thanks @HP for the printer that came with a ne...  NickBrackney       en   \n",
       "\n",
       "      Hashtags  ReplyCount  RetweetCount  LikeCount  QuoteCount  \\\n",
       "0         None           0             0          0           0   \n",
       "1         None           1             0          1           0   \n",
       "2         None           0             0          0           0   \n",
       "3    [Brother]           0             0          0           0   \n",
       "4         None           4             2          6           0   \n",
       "..         ...         ...           ...        ...         ...   \n",
       "764       None           3             0          0           0   \n",
       "765       None           0             0          0           0   \n",
       "766       None           0             0          0           0   \n",
       "767       None           0             0          0           0   \n",
       "768       None           1             0          0           1   \n",
       "\n",
       "                                                 Media  \n",
       "0                                                 None  \n",
       "1    [Gif(thumbnailUrl='https://pbs.twimg.com/tweet...  \n",
       "2    [Photo(previewUrl='https://pbs.twimg.com/media...  \n",
       "3    [Photo(previewUrl='https://pbs.twimg.com/media...  \n",
       "4    [Photo(previewUrl='https://pbs.twimg.com/media...  \n",
       "..                                                 ...  \n",
       "764                                               None  \n",
       "765                                               None  \n",
       "766                                               None  \n",
       "767                                               None  \n",
       "768                                               None  \n",
       "\n",
       "[769 rows x 11 columns]"
      ]
     },
     "execution_count": 90,
     "metadata": {},
     "output_type": "execute_result"
    }
   ],
   "source": [
    "tweets_df1.sort_values(by='DateTime',ascending=False)"
   ]
  },
  {
   "cell_type": "code",
   "execution_count": 83,
   "id": "c5ecf1b7",
   "metadata": {},
   "outputs": [],
   "source": [
    "tweets_df1.to_csv(f'{filename}',index = False)"
   ]
  },
  {
   "cell_type": "code",
   "execution_count": 91,
   "id": "73d2076a",
   "metadata": {},
   "outputs": [
    {
     "name": "stdout",
     "output_type": "stream",
     "text": [
      "File saved successfully!\n"
     ]
    }
   ],
   "source": [
    "import traceback\n",
    "\n",
    "try:\n",
    "    tweets_df1.to_csv(f'{filename}', index=False)\n",
    "    print(\"File saved successfully!\")\n",
    "except Exception as e:\n",
    "    print(f\"Error saving file: {e}\")\n",
    "    print(traceback.format_exc())\n"
   ]
  },
  {
   "cell_type": "code",
   "execution_count": null,
   "id": "60b7a665",
   "metadata": {},
   "outputs": [],
   "source": [
    "df = "
   ]
  }
 ],
 "metadata": {
  "kernelspec": {
   "display_name": "Python 3 (ipykernel)",
   "language": "python",
   "name": "python3"
  },
  "language_info": {
   "codemirror_mode": {
    "name": "ipython",
    "version": 3
   },
   "file_extension": ".py",
   "mimetype": "text/x-python",
   "name": "python",
   "nbconvert_exporter": "python",
   "pygments_lexer": "ipython3",
   "version": "3.9.13"
  }
 },
 "nbformat": 4,
 "nbformat_minor": 5
}
